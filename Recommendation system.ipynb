{
 "cells": [
  {
   "cell_type": "code",
   "execution_count": 25,
   "id": "4c48d72e-359a-4377-a001-a896aada266b",
   "metadata": {},
   "outputs": [],
   "source": [
    "import requests\n",
    "import base64"
   ]
  },
  {
   "cell_type": "code",
   "execution_count": 27,
   "id": "47183dda-0ac2-4a6c-8d3a-136df5763d74",
   "metadata": {},
   "outputs": [],
   "source": [
    "CLIENT_ID = 'c44a9e79a7b04156867ec316e9b77577'\n",
    "CLIENT_SECRET = '0adb6ddc2f324d11b0c7904fc37a2094'\n"
   ]
  },
  {
   "cell_type": "code",
   "execution_count": 29,
   "id": "1f659dae-cf21-44d9-9649-3ca3b4e3a67f",
   "metadata": {},
   "outputs": [],
   "source": [
    "# Base64 encode the client ID and client secret\n",
    "client_credentials = f\"{CLIENT_ID}:{CLIENT_SECRET}\"\n",
    "client_credentials_base64 = base64.b64encode(client_credentials.encode())\n"
   ]
  },
  {
   "cell_type": "code",
   "execution_count": 31,
   "id": "83a06bac-f410-4917-8c9f-fd3e47de053c",
   "metadata": {},
   "outputs": [
    {
     "name": "stdout",
     "output_type": "stream",
     "text": [
      "Access token obtained successfully.\n"
     ]
    }
   ],
   "source": [
    "# Request the access token\n",
    "token_url = 'https://accounts.spotify.com/api/token'\n",
    "headers = {\n",
    "    'Authorization': f'Basic {client_credentials_base64.decode()}'\n",
    "}\n",
    "data = {\n",
    "    'grant_type': 'client_credentials'\n",
    "}\n",
    "response = requests.post(token_url, data=data, headers=headers)\n",
    "\n",
    "if response.status_code == 200:\n",
    "    access_token = response.json()['access_token']\n",
    "    print(\"Access token obtained successfully.\")\n",
    "else:\n",
    "    print(\"Error obtaining access token.\")\n",
    "    exit()"
   ]
  },
  {
   "cell_type": "code",
   "execution_count": 11,
   "id": "86974e72-e409-4422-9d5d-421441d9fed1",
   "metadata": {},
   "outputs": [
    {
     "name": "stdout",
     "output_type": "stream",
     "text": [
      "Defaulting to user installation because normal site-packages is not writeable\n",
      "Looking in links: /usr/share/pip-wheels\n",
      "Collecting spotipy\n",
      "  Downloading spotipy-2.23.0-py3-none-any.whl (29 kB)\n",
      "Collecting redis>=3.5.3 (from spotipy)\n",
      "  Obtaining dependency information for redis>=3.5.3 from https://files.pythonhosted.org/packages/0b/34/a01250ac1fc9bf9161e07956d2d580413106ce02d5591470130a25c599e3/redis-5.0.1-py3-none-any.whl.metadata\n",
      "  Downloading redis-5.0.1-py3-none-any.whl.metadata (8.9 kB)\n",
      "Requirement already satisfied: requests>=2.25.0 in /opt/conda/envs/anaconda-panel-2023.05-py310/lib/python3.11/site-packages (from spotipy) (2.31.0)\n",
      "Requirement already satisfied: six>=1.15.0 in /opt/conda/envs/anaconda-panel-2023.05-py310/lib/python3.11/site-packages (from spotipy) (1.16.0)\n",
      "Requirement already satisfied: urllib3>=1.26.0 in /opt/conda/envs/anaconda-panel-2023.05-py310/lib/python3.11/site-packages (from spotipy) (1.26.16)\n",
      "Requirement already satisfied: charset-normalizer<4,>=2 in /opt/conda/envs/anaconda-panel-2023.05-py310/lib/python3.11/site-packages (from requests>=2.25.0->spotipy) (2.0.4)\n",
      "Requirement already satisfied: idna<4,>=2.5 in /opt/conda/envs/anaconda-panel-2023.05-py310/lib/python3.11/site-packages (from requests>=2.25.0->spotipy) (3.4)\n",
      "Requirement already satisfied: certifi>=2017.4.17 in /opt/conda/envs/anaconda-panel-2023.05-py310/lib/python3.11/site-packages (from requests>=2.25.0->spotipy) (2023.7.22)\n",
      "Downloading redis-5.0.1-py3-none-any.whl (250 kB)\n",
      "\u001b[2K   \u001b[38;5;70m━━━━━━━━━━━━━━━━━━━━━━━━━━━━━━━━━━━━━━━━\u001b[0m \u001b[32m250.3/250.3 kB\u001b[0m \u001b[31m8.8 MB/s\u001b[0m eta \u001b[36m0:00:00\u001b[0m\n",
      "\u001b[?25hInstalling collected packages: redis, spotipy\n",
      "Successfully installed redis-5.0.1 spotipy-2.23.0\n",
      "Note: you may need to restart the kernel to use updated packages.\n"
     ]
    }
   ],
   "source": [
    "pip install spotipy"
   ]
  },
  {
   "cell_type": "code",
   "execution_count": 5,
   "id": "f1671528-591e-4cb4-ac8a-5429a88350ae",
   "metadata": {},
   "outputs": [],
   "source": [
    "# Getting music data from spotify playlist\n",
    "import pandas as pd\n",
    "import spotipy\n",
    "from spotipy.oauth2 import SpotifyOAuth"
   ]
  },
  {
   "cell_type": "code",
   "execution_count": 33,
   "id": "47fd4bf1-f74b-42e3-a199-2c85a635c3f0",
   "metadata": {},
   "outputs": [],
   "source": [
    "def get_trending_playlist_data(playlist_id, access_token):\n",
    "    # Set up Spotipy with the access token\n",
    "    sp = spotipy.Spotify(auth=access_token)\n",
    "\n",
    "    # Get the tracks from the playlist\n",
    "    playlist_tracks = sp.playlist_tracks(playlist_id, fields='items(track(id, name, artists, album(id, name)))')\n",
    "\n",
    "    # Extract relevant information and store in a list of dictionaries\n",
    "    music_data = []\n",
    "    for track_info in playlist_tracks['items']:\n",
    "        track = track_info['track']\n",
    "        track_name = track['name']\n",
    "        artists = ', '.join([artist['name'] for artist in track['artists']])\n",
    "        album_name = track['album']['name']\n",
    "        album_id = track['album']['id']\n",
    "        track_id = track['id']\n",
    "\n",
    "        # Get audio features for the track\n",
    "        audio_features = sp.audio_features(track_id)[0] if track_id != 'Not available' else None\n",
    "\n",
    "        # Get release date of the album\n",
    "        try:\n",
    "            album_info = sp.album(album_id) if album_id != 'Not available' else None\n",
    "            release_date = album_info['release_date'] if album_info else None\n",
    "        except:\n",
    "            release_date = None\n",
    "\n",
    "        # Get popularity of the track\n",
    "        try:\n",
    "            track_info = sp.track(track_id) if track_id != 'Not available' else None\n",
    "            popularity = track_info['popularity'] if track_info else None\n",
    "        except:\n",
    "            popularity = None\n",
    "\n",
    "        # Add additional track information to the track data\n",
    "        track_data = {\n",
    "            'Track Name': track_name,\n",
    "            'Artists': artists,\n",
    "            'Album Name': album_name,\n",
    "            'Album ID': album_id,\n",
    "            'Track ID': track_id,\n",
    "            'Popularity': popularity,\n",
    "            'Release Date': release_date,\n",
    "            'Duration (ms)': audio_features['duration_ms'] if audio_features else None,\n",
    "            'Explicit': track_info.get('explicit', None),\n",
    "            'External URLs': track_info.get('external_urls', {}).get('spotify', None),\n",
    "            'Danceability': audio_features['danceability'] if audio_features else None,\n",
    "            'Energy': audio_features['energy'] if audio_features else None,\n",
    "            'Key': audio_features['key'] if audio_features else None,\n",
    "            'Loudness': audio_features['loudness'] if audio_features else None,\n",
    "            'Mode': audio_features['mode'] if audio_features else None,\n",
    "            'Speechiness': audio_features['speechiness'] if audio_features else None,\n",
    "            'Acousticness': audio_features['acousticness'] if audio_features else None,\n",
    "            'Instrumentalness': audio_features['instrumentalness'] if audio_features else None,\n",
    "            'Liveness': audio_features['liveness'] if audio_features else None,\n",
    "            'Valence': audio_features['valence'] if audio_features else None,\n",
    "            'Tempo': audio_features['tempo'] if audio_features else None,\n",
    "            # Add more attributes as needed\n",
    "        }\n",
    "\n",
    "        music_data.append(track_data)\n",
    "\n",
    "    # Create a pandas DataFrame from the list of dictionaries\n",
    "    df = pd.DataFrame(music_data)\n",
    "\n",
    "    return df\n"
   ]
  },
  {
   "cell_type": "code",
   "execution_count": 35,
   "id": "3378952c-1645-43ad-ac75-d5a57fe1c8c1",
   "metadata": {},
   "outputs": [
    {
     "name": "stdout",
     "output_type": "stream",
     "text": [
      "                      Track Name                        Artists  \\\n",
      "0                       fukumean                          Gunna   \n",
      "1                          Prada    cassö, RAYE, D-Block Europe   \n",
      "2             IDGAF (feat. Yeat)                    Drake, Yeat   \n",
      "3                I'm Good (Blue)       David Guetta, Bebe Rexha   \n",
      "4                Me Porto Bonito    Bad Bunny, Chencho Corleone   \n",
      "..                           ...                            ...   \n",
      "95                        Demons                       Doja Cat   \n",
      "96              Little Girl Gone                     CHINCHILLA   \n",
      "97         Rainfall (Praise You)                      Tom Santa   \n",
      "98  Kernkraft 400 (A Better Day)                     Topic, A7S   \n",
      "99                        LOKERA  Rauw Alejandro, Lyanno, Brray   \n",
      "\n",
      "                      Album Name                Album ID  \\\n",
      "0               a Gift & a Curse  5qmZefgh78fN3jsyPPlvuw   \n",
      "1                          Prada  5MU0RmBSpoSxOPYBfcobDc   \n",
      "2               For All The Dogs  4czdORdCWP9umpbhFXK2fW   \n",
      "3                I'm Good (Blue)  7M842DMhYVALrXsw3ty7B3   \n",
      "4               Un Verano Sin Ti  3RQQmkQEvNCY4prGKE6oc5   \n",
      "..                           ...                     ...   \n",
      "95                        Demons  7iduRgQGVmm0Thy4v734Py   \n",
      "96              Little Girl Gone  7tzZQfNdN5rWCYFcM24byP   \n",
      "97         Rainfall (Praise You)  4VanY5i4E59Mhz52qznJ95   \n",
      "98  Kernkraft 400 (A Better Day)  2NIChqkijGw4r4Dqfmg0A3   \n",
      "99                        LOKERA  4vJcqwIGUuk5TeP29OPovU   \n",
      "\n",
      "                  Track ID  Popularity Release Date  Duration (ms)  Explicit  \\\n",
      "0   4rXLjWdF2ZZpXCVTfWcshS          94   2023-06-16         125040      True   \n",
      "1   59NraMJsLaMCVtwXTSia8i          94   2023-08-11         132359      True   \n",
      "2   2YSzYUF3jWqb9YP9VXmpjE          94   2023-10-06         260111      True   \n",
      "3   4uUG5RXrOk84mYEfFvj3cK          91   2022-08-26         175238      True   \n",
      "4   6Sq7ltF9Qa7SNFBsV5Cogx          90   2022-05-06         178567      True   \n",
      "..                     ...         ...          ...            ...       ...   \n",
      "95  1xemKSmCnH59ze3KX5wwgH          76   2023-08-31         196653      True   \n",
      "96  56rpEOCBATYItSa4yPksfe          76   2023-09-01         188596      True   \n",
      "97  1M8t1j3Kv2qp97bdq5q4Vl          76   2022-02-18         166570     False   \n",
      "98  3kcKlOkQQEPVwxwljbGJ5p          76   2022-06-17         165800     False   \n",
      "99  79HZAZNnOE97rb2hnI0XQr          76   2022-07-25         195294      True   \n",
      "\n",
      "                                        External URLs  ...  Energy  Key  \\\n",
      "0   https://open.spotify.com/track/4rXLjWdF2ZZpXCV...  ...   0.622    1   \n",
      "1   https://open.spotify.com/track/59NraMJsLaMCVtw...  ...   0.717    8   \n",
      "2   https://open.spotify.com/track/2YSzYUF3jWqb9YP...  ...   0.670    8   \n",
      "3   https://open.spotify.com/track/4uUG5RXrOk84mYE...  ...   0.965    7   \n",
      "4   https://open.spotify.com/track/6Sq7ltF9Qa7SNFB...  ...   0.712    1   \n",
      "..                                                ...  ...     ...  ...   \n",
      "95  https://open.spotify.com/track/1xemKSmCnH59ze3...  ...   0.341    8   \n",
      "96  https://open.spotify.com/track/56rpEOCBATYItSa...  ...   0.683    1   \n",
      "97  https://open.spotify.com/track/1M8t1j3Kv2qp97b...  ...   0.862    5   \n",
      "98  https://open.spotify.com/track/3kcKlOkQQEPVwxw...  ...   0.727   11   \n",
      "99  https://open.spotify.com/track/79HZAZNnOE97rb2...  ...   0.828   11   \n",
      "\n",
      "    Loudness  Mode  Speechiness  Acousticness  Instrumentalness  Liveness  \\\n",
      "0     -6.747     0       0.0903      0.119000          0.000000    0.2850   \n",
      "1     -5.804     1       0.0375      0.001000          0.000002    0.1130   \n",
      "2     -8.399     1       0.2710      0.046400          0.000089    0.2050   \n",
      "3     -3.673     0       0.0343      0.003830          0.000007    0.3710   \n",
      "4     -5.105     0       0.0817      0.090100          0.000027    0.0933   \n",
      "..       ...   ...          ...           ...               ...       ...   \n",
      "95    -5.915     1       0.2810      0.000087          0.007460    0.1800   \n",
      "96    -6.342     0       0.2710      0.190000          0.000000    0.0819   \n",
      "97    -5.464     0       0.0606      0.140000          0.009200    0.2520   \n",
      "98    -5.570     0       0.0562      0.184000          0.000020    0.3090   \n",
      "99    -2.657     0       0.0452      0.210000          0.000006    0.1030   \n",
      "\n",
      "    Valence    Tempo  \n",
      "0     0.220  130.001  \n",
      "1     0.422  141.904  \n",
      "2     0.138  136.952  \n",
      "3     0.304  128.040  \n",
      "4     0.425   92.005  \n",
      "..      ...      ...  \n",
      "95    0.344  139.885  \n",
      "96    0.534  159.998  \n",
      "97    0.509  128.039  \n",
      "98    0.400  125.975  \n",
      "99    0.580  102.019  \n",
      "\n",
      "[100 rows x 21 columns]\n"
     ]
    }
   ],
   "source": [
    "playlist_id = '37i9dQZF1DX76Wlfdnj7AP'\n",
    "\n",
    "# Call the function to get the music data from the playlist and store it in a DataFrame\n",
    "music_df = get_trending_playlist_data(playlist_id, access_token)\n",
    "\n",
    "# Display the DataFrame\n",
    "print(music_df)"
   ]
  },
  {
   "cell_type": "code",
   "execution_count": 37,
   "id": "dfc4e500-1a3d-494c-b621-fd1ca9f9f771",
   "metadata": {},
   "outputs": [
    {
     "name": "stdout",
     "output_type": "stream",
     "text": [
      "Track Name          0\n",
      "Artists             0\n",
      "Album Name          0\n",
      "Album ID            0\n",
      "Track ID            0\n",
      "Popularity          0\n",
      "Release Date        0\n",
      "Duration (ms)       0\n",
      "Explicit            0\n",
      "External URLs       0\n",
      "Danceability        0\n",
      "Energy              0\n",
      "Key                 0\n",
      "Loudness            0\n",
      "Mode                0\n",
      "Speechiness         0\n",
      "Acousticness        0\n",
      "Instrumentalness    0\n",
      "Liveness            0\n",
      "Valence             0\n",
      "Tempo               0\n",
      "dtype: int64\n"
     ]
    }
   ],
   "source": [
    "# Checking for null values\n",
    "print(music_df.isnull().sum())"
   ]
  },
  {
   "cell_type": "code",
   "execution_count": 39,
   "id": "23d7db38-5ae9-4c58-8410-3fe76bbe5282",
   "metadata": {},
   "outputs": [],
   "source": [
    "# Building the recommendation system\n",
    "import pandas as pd\n",
    "import numpy as np\n",
    "from sklearn.model_selection import train_test_split\n",
    "from sklearn.preprocessing import MinMaxScaler\n",
    "from datetime import datetime\n",
    "from sklearn.metrics.pairwise import cosine_similarity\n",
    "\n",
    "data = music_df"
   ]
  },
  {
   "cell_type": "code",
   "execution_count": 41,
   "id": "b585147f-683f-441a-add9-8467f42c8887",
   "metadata": {},
   "outputs": [],
   "source": [
    "# Function to calculate weighted popularity scores based on release date\n",
    "def calculate_weighted_popularity(release_date):\n",
    "    # Convert the release date to datetime object\n",
    "    release_date = datetime.strptime(release_date, '%Y-%m-%d')\n",
    "\n",
    "    # Calculate the time span between release date and today's date\n",
    "    time_span = datetime.now() - release_date\n",
    "\n",
    "    # Calculate the weighted popularity score based on time span (e.g., more recent releases have higher weight)\n",
    "    weight = 1 / (time_span.days + 1)\n",
    "    return weight"
   ]
  },
  {
   "cell_type": "code",
   "execution_count": 43,
   "id": "5ed4cada-4761-4af2-b403-403adb2da407",
   "metadata": {},
   "outputs": [],
   "source": [
    "# Normalize the music features using Min-Max scaling\n",
    "scaler = MinMaxScaler()\n",
    "music_features = music_df[['Danceability', 'Energy', 'Key', \n",
    "                           'Loudness', 'Mode', 'Speechiness', 'Acousticness',\n",
    "                           'Instrumentalness', 'Liveness', 'Valence', 'Tempo']].values\n",
    "music_features_scaled = scaler.fit_transform(music_features)"
   ]
  },
  {
   "cell_type": "code",
   "execution_count": 45,
   "id": "fbbf28fb-2a48-41cb-921e-4e107bf417da",
   "metadata": {},
   "outputs": [],
   "source": [
    "# a function to get content-based recommendations based on music features\n",
    "def content_based_recommendations(input_song_name, num_recommendations=5):\n",
    "    if input_song_name not in music_df['Track Name'].values:\n",
    "        print(f\"'{input_song_name}' not found in the dataset. Please enter a valid song name.\")\n",
    "        return\n",
    "\n",
    "    # Get the index of the input song in the music DataFrame\n",
    "    input_song_index = music_df[music_df['Track Name'] == input_song_name].index[0]\n",
    "\n",
    "    # Calculate the similarity scores based on music features (cosine similarity)\n",
    "    similarity_scores = cosine_similarity([music_features_scaled[input_song_index]], music_features_scaled)\n",
    "\n",
    "    # Get the indices of the most similar songs\n",
    "    similar_song_indices = similarity_scores.argsort()[0][::-1][1:num_recommendations + 1]\n",
    "\n",
    "    # Get the names of the most similar songs based on content-based filtering\n",
    "    content_based_recommendations = music_df.iloc[similar_song_indices][['Track Name', 'Artists', 'Album Name', 'Release Date', 'Popularity']]\n",
    "\n",
    "    return content_based_recommendations"
   ]
  },
  {
   "cell_type": "code",
   "execution_count": 63,
   "id": "58d81c83-c309-42e1-bbf3-cb452aaee194",
   "metadata": {},
   "outputs": [],
   "source": [
    "# a function to get hybrid recommendations based on weighted popularity\n",
    "def hybrid_recommendations(input_song_name, num_recommendations=5, alpha=0.5):\n",
    "    if input_song_name not in music_df['Track Name'].values:\n",
    "        print(f\"'{input_song_name}' not found in the dataset. Please enter a valid song name.\")\n",
    "        return\n",
    "\n",
    "    # Get content-based recommendations\n",
    "    content_based_rec = content_based_recommendations(input_song_name, num_recommendations)\n",
    "\n",
    "    # Get the popularity score of the input song\n",
    "    popularity_score = music_df.loc[music_df['Track Name'] == input_song_name, 'Popularity'].values[0]\n",
    "\n",
    "    # Calculate the weighted popularity score\n",
    "    weighted_popularity_score = popularity_score * calculate_weighted_popularity(music_df.loc[music_df['Track Name'] == input_song_name, 'Release Date'].values[0])\n",
    "\n",
    "    # Combine content-based and popularity-based recommendations based on weighted popularity\n",
    "    hybrid_recommendations = content_based_rec\n",
    "    hybrid_recommendations = pd.concat([hybrid_recommendations, pd.DataFrame({\n",
    "        'Track Name': [input_song_name],\n",
    "        'Artists': [music_df.loc[music_df['Track Name'] == input_song_name, 'Artists'].values[0]],\n",
    "        'Album Name': [music_df.loc[music_df['Track Name'] == input_song_name, 'Album Name'].values[0]],\n",
    "        'Popularity': [popularity_score],\n",
    "        'Weighted Popularity': [weighted_popularity_score] \n",
    "    })])\n",
    "    \n",
    "\n",
    "    # Sort the hybrid recommendations based on weighted popularity score\n",
    "    hybrid_recommendations = hybrid_recommendations.sort_values(by='Popularity', ascending=False)\n",
    "\n",
    "    # Remove the input song from the recommendations\n",
    "    hybrid_recommendations = hybrid_recommendations[hybrid_recommendations['Track Name'] != input_song_name]\n",
    "\n",
    "\n",
    "    return hybrid_recommendations"
   ]
  },
  {
   "cell_type": "code",
   "execution_count": 65,
   "id": "c559554d-febc-4b6d-a4dd-33c1ffaa7458",
   "metadata": {},
   "outputs": [
    {
     "name": "stdout",
     "output_type": "stream",
     "text": [
      "Hybrid recommended songs for 'I'm Good (Blue)':\n",
      "                    Track Name                                     Artists  \\\n",
      "5   FE!N (feat. Playboi Carti)                 Travis Scott, Playboi Carti   \n",
      "59                Call It Love                     Felix Jaehn, Ray Dalton   \n",
      "69                       REACT  Switch Disco, Ella Henderson, Robert Miles   \n",
      "78                        BOTH                      Tiësto, 21 Savage, BIA   \n",
      "84               Where You Are                          John Summit, Hayla   \n",
      "\n",
      "       Album Name Release Date  Popularity  Weighted Popularity  \n",
      "5          UTOPIA   2023-07-28          89                  NaN  \n",
      "59   Call It Love   2022-09-16          81                  NaN  \n",
      "69          REACT   2023-01-13          80                  NaN  \n",
      "78           BOTH   2023-08-29          79                  NaN  \n",
      "84  Where You Are   2023-03-03          78                  NaN  \n"
     ]
    }
   ],
   "source": [
    "input_song_name = \"I'm Good (Blue)\"\n",
    "recommendations = hybrid_recommendations(input_song_name, num_recommendations=5)\n",
    "print(f\"Hybrid recommended songs for '{input_song_name}':\")\n",
    "print(recommendations)"
   ]
  }
 ],
 "metadata": {
  "kernelspec": {
   "display_name": "anaconda-panel-2023.05-py310",
   "language": "python",
   "name": "conda-env-anaconda-panel-2023.05-py310-py"
  },
  "language_info": {
   "codemirror_mode": {
    "name": "ipython",
    "version": 3
   },
   "file_extension": ".py",
   "mimetype": "text/x-python",
   "name": "python",
   "nbconvert_exporter": "python",
   "pygments_lexer": "ipython3",
   "version": "3.11.5"
  }
 },
 "nbformat": 4,
 "nbformat_minor": 5
}
